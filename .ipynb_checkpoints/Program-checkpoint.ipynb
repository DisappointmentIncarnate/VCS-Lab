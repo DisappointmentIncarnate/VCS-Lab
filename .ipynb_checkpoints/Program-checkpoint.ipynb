{
 "cells": [
  {
   "cell_type": "markdown",
   "metadata": {},
   "source": [
    "Josh Ye\n",
    "Marcus Villalba"
   ]
  },
  {
   "cell_type": "code",
   "execution_count": 13,
   "metadata": {},
   "outputs": [
    {
     "name": "stdin",
     "output_type": "stream",
     "text": [
      "What is your name? sdafsd\n",
      "When is your birthday (mm/dd/yy):  10/12/03\n"
     ]
    },
    {
     "name": "stdout",
     "output_type": "stream",
     "text": [
      "21\n",
      "You are sdafsd, and you were born on a Sunday\n"
     ]
    }
   ],
   "source": [
    "name = input(\"What is your name?\")\n",
    "\n",
    "while True: #runs infinitely until a valid numeric answer is given.\n",
    "    try:\n",
    "        birthday = input(\"When is your birthday (mm/dd/yy): \")\n",
    "        birthday_split = birthday.split(\"/\")\n",
    "        month = birthday_split[0]\n",
    "        day = birthday_split[1]\n",
    "        year = birthday_split[2]\n",
    "        if( len(month) != 2 or len(day) != 2 or len(year) != 2):\n",
    "            pass;\n",
    "        else:\n",
    "            break;\n",
    "    except:\n",
    "        print(\"Enter a valid number.\")\n",
    "sum = int(day);\n",
    "if(month == \"01\" or month == \"10\"):\n",
    "    sum+=6\n",
    "elif(month == \"02\" or month == \"03\" or month == \"11\"):\n",
    "    sum+=2\n",
    "elif(month == \"04\" or month == \"07\"):\n",
    "    sum+=5\n",
    "elif(month == \"06\"):\n",
    "    sum+=3\n",
    "elif(month == \"08\"):\n",
    "    sum+=1\n",
    "elif(month == \"09\" or month == \"12\"):\n",
    "    sum+=4\n",
    "\n",
    "if(year[0] == \"9\"): #nineties\n",
    "    sum+=1\n",
    "elif(year[0] == \"0\"): #2000\n",
    "    sum+=0\n",
    "elif(year[0] == \"1\"): #2010\n",
    "    sum+=5\n",
    "    \n",
    "sum+=int(year[1])\n",
    "\n",
    "if(int(year[0])%2 == 0): #even\n",
    "    if( int(year[1]) >= 8 ):\n",
    "        sum+=2\n",
    "    elif( int(year[1]) >= 4):\n",
    "        sum+=1\n",
    "else: #odd\n",
    "    if( int(year[1]) >= 6):\n",
    "        sum+=2\n",
    "    elif( int(year[1]) >= 2):\n",
    "        sum+=1\n",
    "        \n",
    "sum = sum%7\n",
    "\n",
    "if(sum == 1):\n",
    "    weekday = \"Monday\"\n",
    "elif(sum ==2):\n",
    "    weekday = \"Tuesday\"\n",
    "elif(sum ==3):\n",
    "    weekday = \"Wednesday\"\n",
    "elif(sum ==4):\n",
    "    weekday = \"Thursday\"\n",
    "elif(sum == 5):\n",
    "    weekday = \"Friday\"\n",
    "elif(sum == 6):\n",
    "    weekday = \"Saturday\"\n",
    "else:\n",
    "    weekday = \"Sunday\"\n",
    "    \n",
    "print(\"You are \" + name + \", and you were born on a \" + weekday)"
   ]
  },
  {
   "cell_type": "code",
   "execution_count": null,
   "metadata": {},
   "outputs": [],
   "source": []
  }
 ],
 "metadata": {
  "kernelspec": {
   "display_name": "Python 3",
   "language": "python",
   "name": "python3"
  },
  "language_info": {
   "codemirror_mode": {
    "name": "ipython",
    "version": 3
   },
   "file_extension": ".py",
   "mimetype": "text/x-python",
   "name": "python",
   "nbconvert_exporter": "python",
   "pygments_lexer": "ipython3",
   "version": "3.8.3"
  }
 },
 "nbformat": 4,
 "nbformat_minor": 4
}
