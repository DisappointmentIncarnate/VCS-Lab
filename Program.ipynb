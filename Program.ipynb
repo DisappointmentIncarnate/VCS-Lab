{
 "cells": [
  {
   "cell_type": "markdown",
   "metadata": {},
   "source": [
    "Josh Ye\n",
    "Marcus Villalba"
   ]
  },
  {
   "cell_type": "code",
   "execution_count": 15,
   "metadata": {},
   "outputs": [
    {
     "name": "stdin",
     "output_type": "stream",
     "text": [
      "What is your name? guy\n",
      "How old are you? asdfasdfas\n"
     ]
    },
    {
     "name": "stdout",
     "output_type": "stream",
     "text": [
      "Enter a valid number.\n"
     ]
    },
    {
     "name": "stdin",
     "output_type": "stream",
     "text": [
      "How old are you? 21\n"
     ]
    },
    {
     "name": "stdout",
     "output_type": "stream",
     "text": [
      "You are guy, and you are 21 years old.\n"
     ]
    }
   ],
   "source": [
    "name = input(\"What is your name?\")\n",
    "\n",
    "while True: #runs infinitely until a valid numeric answer is given.\n",
    "    try:\n",
    "        age = int(input(\"How old are you?\"))\n",
    "        break;\n",
    "    except:\n",
    "        print(\"Enter a valid number.\")\n",
    "        \n",
    "print(\"You are \" + name + \", and you are \" + str(age) + \" years old.\") #prints something"
   ]
  },
  {
   "cell_type": "code",
   "execution_count": null,
   "metadata": {},
   "outputs": [],
   "source": []
  }
 ],
 "metadata": {
  "kernelspec": {
   "display_name": "Python 3",
   "language": "python",
   "name": "python3"
  },
  "language_info": {
   "codemirror_mode": {
    "name": "ipython",
    "version": 3
   },
   "file_extension": ".py",
   "mimetype": "text/x-python",
   "name": "python",
   "nbconvert_exporter": "python",
   "pygments_lexer": "ipython3",
   "version": "3.8.3"
  }
 },
 "nbformat": 4,
 "nbformat_minor": 4
}
